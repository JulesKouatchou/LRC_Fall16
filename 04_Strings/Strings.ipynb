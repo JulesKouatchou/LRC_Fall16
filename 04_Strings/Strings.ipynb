{
 "metadata": {
  "name": "",
  "signature": "sha256:a13242bddd8bc720f05121daae651c5ac89193808462add2231c4d6b2f67e14b"
 },
 "nbformat": 3,
 "nbformat_minor": 0,
 "worksheets": [
  {
   "cells": [
    {
     "cell_type": "markdown",
     "metadata": {},
     "source": [
      "<CENTER>\n",
      "<H1>\n",
      "<font color='blue'>NASA Langley Research Center </font> <BR>\n",
      "Fall 2016 Python Training <br>\n",
      "</H1>\n",
      "</CENTER>"
     ]
    },
    {
     "cell_type": "heading",
     "level": 1,
     "metadata": {},
     "source": [
      "Strings in Python"
     ]
    },
    {
     "cell_type": "heading",
     "level": 2,
     "metadata": {},
     "source": [
      "<font color='red'>What will be Covered?</font>"
     ]
    },
    {
     "cell_type": "markdown",
     "metadata": {},
     "source": [
      "<OL>\n",
      "<LI> What is a String?\n",
      "<LI> Basic Operations on Strings\n",
      "<LI> String Operators\n",
      "<LI> String Methods\n",
      "</OL>"
     ]
    },
    {
     "cell_type": "heading",
     "level": 2,
     "metadata": {},
     "source": [
      "<font color='red'>Reference Documents</font>"
     ]
    },
    {
     "cell_type": "markdown",
     "metadata": {},
     "source": [
      "<OL>\n",
      "<LI> <A HREF=\"http://www.tutorialspoint.com/python/python_strings.htm\">Python Strings</A>\n",
      "<LI> <A HREF=\"http://anh.cs.luc.edu/python/hands-on/3.1/handsonHtml/strings3.html\">Strings</A>\n",
      "<LI> <A HREF=\"http://www.learnpython.org/en/Basic_String_Operations\">Basic String Operations</A>\n",
      "</OL>"
     ]
    },
    {
     "cell_type": "heading",
     "level": 2,
     "metadata": {},
     "source": [
      "<font color='red'>What is a String?</font>"
     ]
    },
    {
     "cell_type": "markdown",
     "metadata": {},
     "source": [
      "A \"string\" is a series of characters of arbitrary length. \n",
      "Strings are immutable - they cannot be changed once created. \n",
      "When you modify a string, you automatically make a copy and modify the copy."
     ]
    },
    {
     "cell_type": "code",
     "collapsed": false,
     "input": [
      "s1 = 'Python'\n",
      "print s1, s1.upper(), s1"
     ],
     "language": "python",
     "metadata": {},
     "outputs": []
    },
    {
     "cell_type": "heading",
     "level": 3,
     "metadata": {},
     "source": [
      "String Literals"
     ]
    },
    {
     "cell_type": "markdown",
     "metadata": {},
     "source": [
      "A \"literal\" is essentially a string constant, already spelled out for you. \n",
      "Python uses either on output, but that's just for formatting simplicity."
     ]
    },
    {
     "cell_type": "code",
     "collapsed": false,
     "input": [
      "\"Python\""
     ],
     "language": "python",
     "metadata": {},
     "outputs": []
    },
    {
     "cell_type": "heading",
     "level": 3,
     "metadata": {},
     "source": [
      "Single and Double Quotes"
     ]
    },
    {
     "cell_type": "markdown",
     "metadata": {},
     "source": [
      "Generally, a string literal can be in single ('), double (\"), or triple (''') quotes. \n",
      "Single and double quotes are equivalent - use whichever you prefer (but be consistent). \n",
      "If you need to have a single or double quote in your literal, surround your literal \n",
      "with the other type, or use the backslash to escape the quote."
     ]
    },
    {
     "cell_type": "code",
     "collapsed": false,
     "input": [
      "\"Python's a programming language.\""
     ],
     "language": "python",
     "metadata": {},
     "outputs": []
    },
    {
     "cell_type": "code",
     "collapsed": false,
     "input": [
      "'Python\\'s a programming language.'"
     ],
     "language": "python",
     "metadata": {},
     "outputs": []
    },
    {
     "cell_type": "code",
     "collapsed": false,
     "input": [
      "'We call it... \"Python\".'"
     ],
     "language": "python",
     "metadata": {},
     "outputs": []
    },
    {
     "cell_type": "heading",
     "level": 3,
     "metadata": {},
     "source": [
      "Triple Quotes (''')"
     ]
    },
    {
     "cell_type": "markdown",
     "metadata": {},
     "source": [
      "Triple quotes are a special form of quoting used for documenting your Python files (docstrings)."
     ]
    },
    {
     "cell_type": "code",
     "collapsed": false,
     "input": [
      "'''\n",
      "   You are attending the Fall 2016 LRC Python Training.\n",
      "   We hope that you will enjoy this event and learn\n",
      "   something that you can apply in your job.\n",
      "'''\n",
      "\"Welcome to the Training\""
     ],
     "language": "python",
     "metadata": {},
     "outputs": []
    },
    {
     "cell_type": "heading",
     "level": 3,
     "metadata": {},
     "source": [
      "Raw Strings"
     ]
    },
    {
     "cell_type": "markdown",
     "metadata": {},
     "source": [
      "Raw strings don't use any escape character interpretation. \n",
      "Use them when you have a complicated string that you don't want to clutter with lots of backslashes. \n",
      "Python puts them in for you."
     ]
    },
    {
     "cell_type": "code",
     "collapsed": false,
     "input": [
      "print 'This is a\\ncomplicated string with newline escapes in it.'"
     ],
     "language": "python",
     "metadata": {},
     "outputs": []
    },
    {
     "cell_type": "code",
     "collapsed": false,
     "input": [
      "print r'This is a\\ncomplicated string with newline escapes in it.'"
     ],
     "language": "python",
     "metadata": {},
     "outputs": []
    },
    {
     "cell_type": "heading",
     "level": 2,
     "metadata": {},
     "source": [
      "<font color='red'>Basic Operations on Strings</font>"
     ]
    },
    {
     "cell_type": "heading",
     "level": 3,
     "metadata": {},
     "source": [
      "String and Numbers"
     ]
    },
    {
     "cell_type": "code",
     "collapsed": false,
     "input": [
      "int('2016')"
     ],
     "language": "python",
     "metadata": {},
     "outputs": [
      {
       "metadata": {},
       "output_type": "pyout",
       "prompt_number": 12,
       "text": [
        "2016"
       ]
      }
     ],
     "prompt_number": 12
    },
    {
     "cell_type": "code",
     "collapsed": false,
     "input": [
      "int('3.14')"
     ],
     "language": "python",
     "metadata": {},
     "outputs": []
    },
    {
     "cell_type": "code",
     "collapsed": false,
     "input": [
      "int(float('3.14'))"
     ],
     "language": "python",
     "metadata": {},
     "outputs": []
    },
    {
     "cell_type": "code",
     "collapsed": false,
     "input": [
      "x=int('122', 3)\n",
      "x+1"
     ],
     "language": "python",
     "metadata": {},
     "outputs": []
    },
    {
     "cell_type": "heading",
     "level": 3,
     "metadata": {},
     "source": [
      "String Objects"
     ]
    },
    {
     "cell_type": "markdown",
     "metadata": {},
     "source": [
      "String objects are just the string variables you create in Python."
     ]
    },
    {
     "cell_type": "code",
     "collapsed": false,
     "input": [
      "x = 'Python'\n",
      "print x"
     ],
     "language": "python",
     "metadata": {},
     "outputs": []
    },
    {
     "cell_type": "code",
     "collapsed": false,
     "input": [
      "x"
     ],
     "language": "python",
     "metadata": {},
     "outputs": []
    },
    {
     "cell_type": "markdown",
     "metadata": {},
     "source": [
      "Note the print call shows no quotes, while the simple variable name did. \n",
      "That is a Python output convention. \n",
      "Just entering the name will call the repr() method, \n",
      "which displays the value of the argument as Python would see it when it \n",
      "reads it in, not as the user wants it."
     ]
    },
    {
     "cell_type": "code",
     "collapsed": false,
     "input": [
      "repr(x)"
     ],
     "language": "python",
     "metadata": {},
     "outputs": []
    },
    {
     "cell_type": "code",
     "collapsed": false,
     "input": [
      "print repr(x)"
     ],
     "language": "python",
     "metadata": {},
     "outputs": []
    },
    {
     "cell_type": "heading",
     "level": 2,
     "metadata": {},
     "source": [
      "<font color='red'>String Operators</font>"
     ]
    },
    {
     "cell_type": "markdown",
     "metadata": {},
     "source": [
      "When you read text from a file, it's just that - text. \n",
      "No matter what the data represents, it's still text. \n",
      "To use it as a number, you have to explicitly convert it to a number."
     ]
    },
    {
     "cell_type": "code",
     "collapsed": false,
     "input": [
      "one = 1\n",
      "two = '2'\n",
      "print one, two, one + two"
     ],
     "language": "python",
     "metadata": {},
     "outputs": []
    },
    {
     "cell_type": "code",
     "collapsed": false,
     "input": [
      "one = 1\n",
      "two = int('2')\n",
      "print one, two, one + two"
     ],
     "language": "python",
     "metadata": {},
     "outputs": []
    },
    {
     "cell_type": "code",
     "collapsed": false,
     "input": [
      "num1 = 1.1\n",
      "num2 = float('2.2')\n",
      "print num1, num2, num1 + num2"
     ],
     "language": "python",
     "metadata": {},
     "outputs": []
    },
    {
     "cell_type": "markdown",
     "metadata": {},
     "source": [
      "You can also do this with hexadecimal and octal numbers, or any other base, for that matter."
     ]
    },
    {
     "cell_type": "code",
     "collapsed": false,
     "input": [
      "print int('FF', 16)\n",
      "print int('0xff', 16)\n",
      "print int('777', 8)\n",
      "print int('0777', 8)\n",
      "print int('222', 7)\n",
      "print int('110111001', 2)"
     ],
     "language": "python",
     "metadata": {},
     "outputs": []
    },
    {
     "cell_type": "markdown",
     "metadata": {},
     "source": [
      "If the conversion cannot be done, an exception is thrown."
     ]
    },
    {
     "cell_type": "code",
     "collapsed": false,
     "input": [
      "print int('0xGG', 16)"
     ],
     "language": "python",
     "metadata": {},
     "outputs": []
    },
    {
     "cell_type": "heading",
     "level": 4,
     "metadata": {},
     "source": [
      "Concatenation"
     ]
    },
    {
     "cell_type": "code",
     "collapsed": false,
     "input": [
      "x = 'LRC'\n",
      "y = 'Training'\n",
      "x + ' Python ' + y"
     ],
     "language": "python",
     "metadata": {},
     "outputs": []
    },
    {
     "cell_type": "heading",
     "level": 4,
     "metadata": {},
     "source": [
      "Repetition"
     ]
    },
    {
     "cell_type": "code",
     "collapsed": false,
     "input": [
      "'Great Experience! ' *3"
     ],
     "language": "python",
     "metadata": {},
     "outputs": []
    },
    {
     "cell_type": "heading",
     "level": 4,
     "metadata": {},
     "source": [
      "String Keywords (in)"
     ]
    },
    {
     "cell_type": "code",
     "collapsed": false,
     "input": [
      "'Python' in 'LRC Python Training'"
     ],
     "language": "python",
     "metadata": {},
     "outputs": []
    },
    {
     "cell_type": "heading",
     "level": 4,
     "metadata": {},
     "source": [
      "String Functions (len)"
     ]
    },
    {
     "cell_type": "code",
     "collapsed": false,
     "input": [
      "len(x)"
     ],
     "language": "python",
     "metadata": {},
     "outputs": []
    },
    {
     "cell_type": "heading",
     "level": 4,
     "metadata": {},
     "source": [
      "String Slicing"
     ]
    },
    {
     "cell_type": "code",
     "collapsed": false,
     "input": [
      "ev = 'The Python Training at NASA LRC is starting at 8:30 am.'\n",
      "print ev[0:]\n",
      "print ev[:-1]\n",
      "print ev[4:20]\n",
      "print ev[4:20:2]"
     ],
     "language": "python",
     "metadata": {},
     "outputs": []
    },
    {
     "cell_type": "heading",
     "level": 2,
     "metadata": {},
     "source": [
      "<font color='red'>String Methods</font>"
     ]
    },
    {
     "cell_type": "markdown",
     "metadata": {},
     "source": [
      "Methods are functions attached to objects, accessed via the 'dot' notation."
     ]
    },
    {
     "cell_type": "heading",
     "level": 3,
     "metadata": {},
     "source": [
      "Basic Formatting and Manipulation"
     ]
    },
    {
     "cell_type": "heading",
     "level": 5,
     "metadata": {},
     "source": [
      "capitalize()/lower()/upper()/swapcase()/title()"
     ]
    },
    {
     "cell_type": "code",
     "collapsed": false,
     "input": [
      "x.capitalize()"
     ],
     "language": "python",
     "metadata": {},
     "outputs": []
    },
    {
     "cell_type": "code",
     "collapsed": false,
     "input": [
      "x.lower()"
     ],
     "language": "python",
     "metadata": {},
     "outputs": []
    },
    {
     "cell_type": "code",
     "collapsed": false,
     "input": [
      "x.upper()"
     ],
     "language": "python",
     "metadata": {},
     "outputs": []
    },
    {
     "cell_type": "code",
     "collapsed": false,
     "input": [
      "x.swapcase()"
     ],
     "language": "python",
     "metadata": {},
     "outputs": []
    },
    {
     "cell_type": "code",
     "collapsed": false,
     "input": [
      "'python training'.title()"
     ],
     "language": "python",
     "metadata": {},
     "outputs": []
    },
    {
     "cell_type": "heading",
     "level": 5,
     "metadata": {},
     "source": [
      "center()/ljust()/rjust()"
     ]
    },
    {
     "cell_type": "code",
     "collapsed": false,
     "input": [
      "x.center(20,'-')"
     ],
     "language": "python",
     "metadata": {},
     "outputs": []
    },
    {
     "cell_type": "code",
     "collapsed": false,
     "input": [
      "x.ljust(20, '-')"
     ],
     "language": "python",
     "metadata": {},
     "outputs": []
    },
    {
     "cell_type": "code",
     "collapsed": false,
     "input": [
      "x.rjust(20, '-')"
     ],
     "language": "python",
     "metadata": {},
     "outputs": []
    },
    {
     "cell_type": "heading",
     "level": 5,
     "metadata": {},
     "source": [
      "expandtabs()"
     ]
    },
    {
     "cell_type": "code",
     "collapsed": false,
     "input": [
      "tabbed_x = '\\tPython'\n",
      "print '[' + tabbed_x + ']'"
     ],
     "language": "python",
     "metadata": {},
     "outputs": []
    },
    {
     "cell_type": "code",
     "collapsed": false,
     "input": [
      "print '[' + tabbed_x.expantabs(20) + ']'"
     ],
     "language": "python",
     "metadata": {},
     "outputs": []
    },
    {
     "cell_type": "heading",
     "level": 5,
     "metadata": {},
     "source": [
      "join()"
     ]
    },
    {
     "cell_type": "code",
     "collapsed": false,
     "input": [
      "' Boot '.join(['Python', 'Camp'])"
     ],
     "language": "python",
     "metadata": {},
     "outputs": []
    },
    {
     "cell_type": "code",
     "collapsed": false,
     "input": [
      "','.join(['We hope that', 'by attenting this event', 'you will learn Python!'])"
     ],
     "language": "python",
     "metadata": {},
     "outputs": []
    },
    {
     "cell_type": "heading",
     "level": 5,
     "metadata": {},
     "source": [
      "strip()/lstrip()/rstrip()"
     ]
    },
    {
     "cell_type": "code",
     "collapsed": false,
     "input": [
      "'   Python    '.strip()"
     ],
     "language": "python",
     "metadata": {},
     "outputs": []
    },
    {
     "cell_type": "code",
     "collapsed": false,
     "input": [
      "'aaaaPythonbbbbbb'.strip('ab')"
     ],
     "language": "python",
     "metadata": {},
     "outputs": []
    },
    {
     "cell_type": "code",
     "collapsed": false,
     "input": [
      "'   Python    '.lstrip()"
     ],
     "language": "python",
     "metadata": {},
     "outputs": []
    },
    {
     "cell_type": "code",
     "collapsed": false,
     "input": [
      "'   Python    '.rstrip()"
     ],
     "language": "python",
     "metadata": {},
     "outputs": []
    },
    {
     "cell_type": "heading",
     "level": 5,
     "metadata": {},
     "source": [
      "partition()/rpartition()"
     ]
    },
    {
     "cell_type": "code",
     "collapsed": false,
     "input": [
      "ev = 'LRC Python Training'\n",
      "ev.partition(' Python ')"
     ],
     "language": "python",
     "metadata": {},
     "outputs": []
    },
    {
     "cell_type": "code",
     "collapsed": false,
     "input": [
      "ev = 'Python Training at NASA LRC'\n",
      "ev.partition(' at ')"
     ],
     "language": "python",
     "metadata": {},
     "outputs": []
    },
    {
     "cell_type": "code",
     "collapsed": false,
     "input": [
      "ev = 'Python Training at NASA LRC starting at 8:30 am'\n",
      "ev.rpartition(' at ')"
     ],
     "language": "python",
     "metadata": {},
     "outputs": []
    },
    {
     "cell_type": "heading",
     "level": 5,
     "metadata": {},
     "source": [
      "replace()"
     ]
    },
    {
     "cell_type": "code",
     "collapsed": false,
     "input": [
      "ev = 'Python Training at NASA LRC starting at 8:30 am'\n",
      "ev.replace('30', '15')"
     ],
     "language": "python",
     "metadata": {},
     "outputs": []
    },
    {
     "cell_type": "code",
     "collapsed": false,
     "input": [
      "ev = 'Python Training at NASA LRC starting at 8:30 am. See you at the SSAI Conference Room!'\n",
      "ev.replace('at', 'in', 2)"
     ],
     "language": "python",
     "metadata": {},
     "outputs": []
    },
    {
     "cell_type": "heading",
     "level": 5,
     "metadata": {},
     "source": [
      "split()/rsplit()"
     ]
    },
    {
     "cell_type": "code",
     "collapsed": false,
     "input": [
      "ev = 'Python Training at NASA LRC starting at 8:30 am'\n",
      "ev.split('at')"
     ],
     "language": "python",
     "metadata": {},
     "outputs": []
    },
    {
     "cell_type": "code",
     "collapsed": false,
     "input": [
      "ev = 'Python Training at NASA LRC starting at 8:30 am'\n",
      "ev.split()"
     ],
     "language": "python",
     "metadata": {},
     "outputs": []
    },
    {
     "cell_type": "code",
     "collapsed": false,
     "input": [
      "ev = 'Python Training at NASA GSFC starting at 8:30 am. See you at the SSAI Conference Room. What?'\n",
      "ev.rsplit('at', 2)"
     ],
     "language": "python",
     "metadata": {},
     "outputs": []
    },
    {
     "cell_type": "heading",
     "level": 5,
     "metadata": {},
     "source": [
      "splitlines()"
     ]
    },
    {
     "cell_type": "code",
     "collapsed": false,
     "input": [
      "ev_in_lines ='Python\\nTraing\\nat NASA'\n",
      "print ev_in_lines"
     ],
     "language": "python",
     "metadata": {},
     "outputs": []
    },
    {
     "cell_type": "code",
     "collapsed": false,
     "input": [
      "ev_in_lines.splitlines()"
     ],
     "language": "python",
     "metadata": {},
     "outputs": []
    },
    {
     "cell_type": "code",
     "collapsed": false,
     "input": [
      "ev_in_lines.splitlines(True)"
     ],
     "language": "python",
     "metadata": {},
     "outputs": []
    },
    {
     "cell_type": "heading",
     "level": 5,
     "metadata": {},
     "source": [
      "zfill()"
     ]
    },
    {
     "cell_type": "code",
     "collapsed": false,
     "input": [
      "for x in range(7,13):\n",
      "    print x, str(x).zfill(4)"
     ],
     "language": "python",
     "metadata": {},
     "outputs": []
    },
    {
     "cell_type": "heading",
     "level": 3,
     "metadata": {},
     "source": [
      "String Information"
     ]
    },
    {
     "cell_type": "heading",
     "level": 5,
     "metadata": {},
     "source": [
      "isXXX()"
     ]
    },
    {
     "cell_type": "code",
     "collapsed": false,
     "input": [
      "print 'Python'.isalnum()\n",
      "print '*Python*'.isalnum()\n",
      "print 'Python123'.isalnum()"
     ],
     "language": "python",
     "metadata": {},
     "outputs": []
    },
    {
     "cell_type": "code",
     "collapsed": false,
     "input": [
      "print 'Python'.isalpha()\n",
      "print 'Python123'.isalpha()"
     ],
     "language": "python",
     "metadata": {},
     "outputs": []
    },
    {
     "cell_type": "code",
     "collapsed": false,
     "input": [
      "print 'Python'.isdigit()\n",
      "print '2016'.isdigit()"
     ],
     "language": "python",
     "metadata": {},
     "outputs": []
    },
    {
     "cell_type": "code",
     "collapsed": false,
     "input": [
      "print 'SpacePython'.isspace()\n",
      "print '   '.isspace()"
     ],
     "language": "python",
     "metadata": {},
     "outputs": []
    },
    {
     "cell_type": "code",
     "collapsed": false,
     "input": [
      "print 'Python'.isupper()\n",
      "print 'PYTHON'.isupper()"
     ],
     "language": "python",
     "metadata": {},
     "outputs": []
    },
    {
     "cell_type": "code",
     "collapsed": false,
     "input": [
      "print 'Python training'.istitle()\n",
      "print 'Python Training'.istitle()"
     ],
     "language": "python",
     "metadata": {},
     "outputs": []
    },
    {
     "cell_type": "heading",
     "level": 5,
     "metadata": {},
     "source": [
      "count()"
     ]
    },
    {
     "cell_type": "code",
     "collapsed": false,
     "input": [
      "ev = 'Python Training at NASA LRC starting at 8:30 am. See you at the SSAI Conference Room. What?'\n",
      "print 'The word \"at\" occurs ', ev.count('at'), ' times'\n",
      "print 'There are ', ev.count('at', 30, 70), ' occurences of the pseudo-word \"at\".'"
     ],
     "language": "python",
     "metadata": {},
     "outputs": []
    },
    {
     "cell_type": "heading",
     "level": 5,
     "metadata": {},
     "source": [
      "startswith()/endswith()"
     ]
    },
    {
     "cell_type": "code",
     "collapsed": false,
     "input": [
      "x = 'Python'\n",
      "print x.startswith('Py')\n",
      "print x.endswith('on')\n",
      "print x.startswith('P')\n",
      "print x.endswith('ton')"
     ],
     "language": "python",
     "metadata": {},
     "outputs": []
    },
    {
     "cell_type": "heading",
     "level": 5,
     "metadata": {},
     "source": [
      "find()/index()/rfind()/rindex()"
     ]
    },
    {
     "cell_type": "code",
     "collapsed": false,
     "input": [
      "ev = 'Python Training at NASA LRC starting at 8:30 am. See you at the SSAI Conference Room. What?'\n",
      "pos = ev.find('at')\n",
      "print 'The first  occurence of \"at\" is at position', pos\n",
      "pos += len('at')\n",
      "print 'The second occurence of \"at\" is at position', ev.find('at', pos)"
     ],
     "language": "python",
     "metadata": {},
     "outputs": []
    },
    {
     "cell_type": "code",
     "collapsed": false,
     "input": [
      "ev.index('ton')"
     ],
     "language": "python",
     "metadata": {},
     "outputs": []
    },
    {
     "cell_type": "code",
     "collapsed": false,
     "input": [
      "print ev.rindex('at')"
     ],
     "language": "python",
     "metadata": {},
     "outputs": []
    },
    {
     "cell_type": "heading",
     "level": 3,
     "metadata": {},
     "source": [
      "Problem"
     ]
    },
    {
     "cell_type": "markdown",
     "metadata": {},
     "source": [
      "Consider the string:"
     ]
    },
    {
     "cell_type": "code",
     "collapsed": false,
     "input": [
      "ev = 'Python Training at NASA LRCC starting at 8:30 am. See you at the SSAI Conference Room. What?'"
     ],
     "language": "python",
     "metadata": {},
     "outputs": []
    },
    {
     "cell_type": "markdown",
     "metadata": {},
     "source": [
      "<UL>\n",
      "<LI> Find the position on the string where \"at\" is appearing the third time\n",
      "<LI> List all the upper case characters on the string.\n",
      "<LI> Replace the second occurence of \".\" with \"!\".\n",
      "<LI> Count the number of times the letter \"a\" (upper or lower case) appears on the string.\n",
      "</UL>"
     ]
    },
    {
     "cell_type": "heading",
     "level": 4,
     "metadata": {},
     "source": [
      "Solution"
     ]
    },
    {
     "cell_type": "code",
     "collapsed": false,
     "input": [],
     "language": "python",
     "metadata": {},
     "outputs": []
    }
   ],
   "metadata": {}
  }
 ]
}