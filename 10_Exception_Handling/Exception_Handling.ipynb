{
 "cells": [
  {
   "cell_type": "code",
   "execution_count": null,
   "metadata": {
    "collapsed": false
   },
   "outputs": [],
   "source": [
    "from IPython.display import Image\n",
    "slide = Image(filename = 'Slide1.jpg')\n",
    "slide"
   ]
  },
  {
   "cell_type": "code",
   "execution_count": null,
   "metadata": {
    "collapsed": false
   },
   "outputs": [],
   "source": [
    "from IPython.display import Image\n",
    "slide = Image(filename = 'Slide2.jpg')\n",
    "slide"
   ]
  },
  {
   "cell_type": "code",
   "execution_count": null,
   "metadata": {
    "collapsed": false
   },
   "outputs": [],
   "source": [
    "from IPython.display import Image\n",
    "slide = Image(filename = 'Slide3.jpg')\n",
    "slide"
   ]
  },
  {
   "cell_type": "markdown",
   "metadata": {},
   "source": [
    "### An exception is an error that happens during the execution of a program."
   ]
  },
  {
   "cell_type": "code",
   "execution_count": null,
   "metadata": {
    "collapsed": false,
    "scrolled": true
   },
   "outputs": [],
   "source": [
    "from IPython.display import Image\n",
    "slide = Image(filename = 'Slide4.jpg')\n",
    "slide"
   ]
  },
  {
   "cell_type": "markdown",
   "metadata": {},
   "source": [
    "### Common exceptions "
   ]
  },
  {
   "cell_type": "code",
   "execution_count": null,
   "metadata": {
    "collapsed": false
   },
   "outputs": [],
   "source": [
    "a = b + 1  # syntactically correct\n",
    "print a "
   ]
  },
  {
   "cell_type": "code",
   "execution_count": null,
   "metadata": {
    "collapsed": false,
    "scrolled": true
   },
   "outputs": [],
   "source": [
    "x = 0      # syntactically correct\n",
    "y = 1/x "
   ]
  },
  {
   "cell_type": "code",
   "execution_count": null,
   "metadata": {
    "collapsed": false,
    "scrolled": true
   },
   "outputs": [],
   "source": [
    "hello_in = {\"spa\":\"hola\",\"eng\":\"hello\",\"fre\":\"bonjour\",\"ita\":\"ciao\",\"ger\":\"hallo\"}\n",
    "print 'hello in german: ' + hello_in[\"ger\"]\n",
    "print 'hello in spanish: ' + hello_in[\"spa\"]\n",
    "print 'hello in french: ' + hello_in[\"fre\"]\n",
    "print 'hello in italian: ' + hello_in[\"ita\"]\n",
    "print 'hello in portuguese: ' + hello_in[\"por\"]"
   ]
  },
  {
   "cell_type": "markdown",
   "metadata": {
    "collapsed": true
   },
   "source": [
    "### Exception handling\n",
    "\n",
    "In python we use the <font color='red'>try...except</font> construct (and <font color='red'>raise</font> - discussed below)\n"
   ]
  },
  {
   "cell_type": "code",
   "execution_count": null,
   "metadata": {
    "collapsed": false
   },
   "outputs": [],
   "source": [
    "try:                                                      # required keyword\n",
    "    print '< Try: Block of code that harbors the risk of an exception >' # exception generated in this block\n",
    "except:                                                   # required keyword\n",
    "    print '*** There was a runtime error ***'             # exception is caught here\n",
    "else:                                                     # optional keyword\n",
    "    print '< Else: There was no exception >'\n",
    "finally:                                                  # optional keyword - line a clean-up\n",
    "    print '< Finally: Exception handling is finished >'\n",
    "    \n",
    "print '<We are outside the try statement>'"
   ]
  },
  {
   "cell_type": "code",
   "execution_count": null,
   "metadata": {
    "collapsed": false
   },
   "outputs": [],
   "source": [
    "try:\n",
    "    user_input = raw_input('Enter a number: ')                     # input is a string\n",
    "    n = int(user_input)\n",
    "    print 'There was no exception.'\n",
    "except:                              # handles any kind of exception\n",
    "    print 'There was an exception'\n",
    "else:\n",
    "    print 'The square of the number is {}'.format(n*n)\n",
    "finally:\n",
    "    print 'Exception handling is finished'"
   ]
  },
  {
   "cell_type": "markdown",
   "metadata": {},
   "source": [
    "### Use the most specific Exception that fits your issue."
   ]
  },
  {
   "cell_type": "code",
   "execution_count": null,
   "metadata": {
    "collapsed": false
   },
   "outputs": [],
   "source": [
    "try:\n",
    "    user_input = raw_input('Enter a number: ')                     # input is a string\n",
    "    n = int(user_input)\n",
    "except Exception, err:\n",
    "    print 'There was an exception: {}'.format(err)\n",
    "else:\n",
    "    print 'The square of the number is {}'.format(n*n)\n",
    "finally:\n",
    "    print 'Exception handling is finished'"
   ]
  },
  {
   "cell_type": "code",
   "execution_count": null,
   "metadata": {
    "collapsed": false
   },
   "outputs": [],
   "source": [
    "try:\n",
    "    user_input = raw_input('Enter a number: ')                     # input is a string\n",
    "    n = int(user_input)\n",
    "except Exception(ValueError):                                      # Provides a traceback\n",
    "    print 'There was an exception:'\n",
    "else:\n",
    "    print 'The square of the number is {}'.format(n*n)\n",
    "finally:\n",
    "    print 'Exception handling is finished'"
   ]
  },
  {
   "cell_type": "code",
   "execution_count": null,
   "metadata": {
    "collapsed": false
   },
   "outputs": [],
   "source": [
    "n = raw_input(\"Please enter a number: \")\n",
    "try:\n",
    "    x = float(n)\n",
    "    y = 1/x\n",
    "except Exception(ZeroDivisionError):\n",
    "    print 'Cannot divide by zero'\n",
    "except Exception(ValueError):\n",
    "    print 'Cannot convert input to float'\n",
    "else:                   \n",
    "    print 'y is ',y\n",
    "finally:                \n",
    "    print 'Done'"
   ]
  },
  {
   "cell_type": "markdown",
   "metadata": {},
   "source": [
    "### IOError exceptions"
   ]
  },
  {
   "cell_type": "code",
   "execution_count": null,
   "metadata": {
    "collapsed": false
   },
   "outputs": [],
   "source": [
    "with open ('nonExistentFile.txt', 'r') as f:\n",
    "   data = my_file.readlines()"
   ]
  },
  {
   "cell_type": "code",
   "execution_count": null,
   "metadata": {
    "collapsed": false
   },
   "outputs": [],
   "source": [
    "try:\n",
    "    with open ('demo.txt', 'r') as f:\n",
    "        data = f.readline()\n",
    "except IOError:\n",
    "    print 'File does not exist'\n",
    "else:\n",
    "    print data"
   ]
  },
  {
   "cell_type": "markdown",
   "metadata": {},
   "source": [
    "### Approaches to exception handling"
   ]
  },
  {
   "cell_type": "code",
   "execution_count": null,
   "metadata": {
    "collapsed": true
   },
   "outputs": [],
   "source": [
    "# The python way - is this the best (or only) approach?\n",
    "\n",
    "try:                \n",
    "    do_it()         \n",
    "except SomeError:   # It is not clear what errors to handle\n",
    "    # handle error\n"
   ]
  },
  {
   "cell_type": "code",
   "execution_count": null,
   "metadata": {
    "collapsed": true
   },
   "outputs": [],
   "source": [
    "# LBYL (look before you leap) \n",
    "\n",
    "if i_can_do_it():  # what do we check for?\n",
    "    do_it()        # is it thread-safe?\n",
    "else:              # not pythonic\n",
    "    # handle error"
   ]
  },
  {
   "cell_type": "markdown",
   "metadata": {},
   "source": [
    "### Manually throw an exception\n",
    "#### A common way to manually throw an exception is to use <font color='red'>raise</font>\n",
    "#### <font color='red'>raise</font> interrupts program flow and passes along error information to the calling method"
   ]
  },
  {
   "cell_type": "code",
   "execution_count": null,
   "metadata": {
    "collapsed": false
   },
   "outputs": [],
   "source": [
    "# First detect the error:\n",
    "def process_something(x):\n",
    "    if x <= 0:\n",
    "        raise ValueError('x is %d but must be greater than 0' % x)  # raise: \n",
    "    # Some actual processing here\n",
    "    pass\n",
    "\n",
    "# Handle exception\n",
    "try:\n",
    "    process_something(-3)\n",
    "except ValueError as error: # handling a specific error\n",
    "    print(error)\n",
    "    \n",
    "# If the exception is left unhandled, the default behavior is for the interpreter \n",
    "# to print a full traceback and the error message included in the exception.\n",
    "process_something(-3)\n"
   ]
  },
  {
   "cell_type": "code",
   "execution_count": null,
   "metadata": {
    "collapsed": false
   },
   "outputs": [],
   "source": [
    "# First detect the error:\n",
    "def process_something():                         \n",
    "    try:                            \n",
    "        do_something()      # exception is raised here\n",
    "    except Exception as e:\n",
    "        raise Exception(e) # re-raise the exact same exception that was thrown\n",
    "\n",
    "# Handle exception\n",
    "try:\n",
    "    process_something()\n",
    "except: # handling any error\n",
    "    print 'There was an exception in function afun()'"
   ]
  },
  {
   "cell_type": "code",
   "execution_count": null,
   "metadata": {
    "collapsed": false
   },
   "outputs": [],
   "source": [
    "# Using assert\n",
    "# ------------\n",
    "# First detect the error:\n",
    "def process_something(x):\n",
    "    assert x > 0, 'x is must be greater than 0' # internally \"raise AssertionError\" - assert is a tool for developer\n",
    "\n",
    "# Handle exception\n",
    "try:\n",
    "    process_something(-3)\n",
    "except ValueError as error: # handling a specific error\n",
    "    print(error)"
   ]
  },
  {
   "cell_type": "markdown",
   "metadata": {},
   "source": [
    "### Example\n",
    "Catching system errors"
   ]
  },
  {
   "cell_type": "code",
   "execution_count": null,
   "metadata": {
    "collapsed": false
   },
   "outputs": [],
   "source": [
    "import subprocess    \n",
    "import os\n",
    " \n",
    "# Run a system command and capture the output    \n",
    "def sys_cmd(cmd):\n",
    "    try:\n",
    "        out = subprocess.check_output(cmd)\n",
    "        return 0\n",
    "    except subprocess.CalledProcessError as e:\n",
    "        out = e.output\n",
    "        return e.returncode\n",
    "    except OSError as e:\n",
    "        return 1\n",
    "\n",
    "# Check the system call return code    \n",
    "def check_rc(rc, cmd):\n",
    "    if rc == 0:\n",
    "        print 'Command \"'+cmd+'\" was succesful'\n",
    "    else:\n",
    "        print 'There was a problem running the command \"'+cmd+'\"'\n",
    "    \n",
    "check_rc(sys_cmd('ls'),'ls')\n",
    "check_rc(sys_cmd('make'),'make')\n",
    "check_rc(sys_cmd('not_a_system_command'),'not_a_system_command')\n"
   ]
  },
  {
   "cell_type": "markdown",
   "metadata": {},
   "source": [
    "### Exercise\n",
    "Replace the filler sections <...> with the necessary code so that it runs. Note that the file demo.txt contains a single numeric line of text."
   ]
  },
  {
   "cell_type": "code",
   "execution_count": null,
   "metadata": {
    "collapsed": false
   },
   "outputs": [],
   "source": [
    "import sys\n",
    "\n",
    "try:\n",
    "    f = open('demo.txt')\n",
    "    s = f.readline()\n",
    "    i = int(s.strip())\n",
    "except <handle file IO exceptions>: \n",
    "    print \"I/O error({0}): {1}\".format(e.errno, e.strerror)\n",
    "except ValueError: # <handle case where one can not convert data to an integer>: \n",
    "    print <Print an informative error message if an exception occurs>\n",
    "except:\n",
    "    print \"Unexpected error:\", sys.exc_info()[0]\n",
    "    raise\n",
    "else:   \n",
    "    <print the data>\n",
    "finally:\n",
    "    <close the file>"
   ]
  }
 ],
 "metadata": {
  "anaconda-cloud": {},
  "kernelspec": {
   "display_name": "Python [Root]",
   "language": "python",
   "name": "Python [Root]"
  },
  "language_info": {
   "codemirror_mode": {
    "name": "ipython",
    "version": 2
   },
   "file_extension": ".py",
   "mimetype": "text/x-python",
   "name": "python",
   "nbconvert_exporter": "python",
   "pygments_lexer": "ipython2",
   "version": "2.7.12"
  }
 },
 "nbformat": 4,
 "nbformat_minor": 0
}
