{
 "metadata": {
  "name": "",
  "signature": "sha256:6f7e1511e60f3b4d40f7093852fd0bcbb4e47e4f2718415c7910454abe7b03ca"
 },
 "nbformat": 3,
 "nbformat_minor": 0,
 "worksheets": [
  {
   "cells": [
    {
     "cell_type": "markdown",
     "metadata": {},
     "source": [
      "<CENTER>\n",
      "<H1>\n",
      "<font color='blue'>NASA Langley Research Center </font> <BR>\n",
      "Fall 2016 Python Training <br>\n",
      "</H1>\n"
     ]
    },
    {
     "cell_type": "heading",
     "level": 1,
     "metadata": {},
     "source": [
      "The xlrd Module"
     ]
    },
    {
     "cell_type": "heading",
     "level": 2,
     "metadata": {},
     "source": [
      "<font color='red'>What will be Covered?</font>"
     ]
    },
    {
     "cell_type": "markdown",
     "metadata": {},
     "source": [
      "<OL>\n",
      "<LI> Opening an Excel file\n",
      "<LI> Getting the sheet information (number of sheets, sheet names, etc.)\n",
      "<LI> Accessing data of a given sheet\n",
      "</OL>"
     ]
    },
    {
     "cell_type": "heading",
     "level": 2,
     "metadata": {},
     "source": [
      "<font color='red'>Reference Documents</font>"
     ]
    },
    {
     "cell_type": "markdown",
     "metadata": {},
     "source": [
      "<OL>\n",
      "<LI> <A HREF=\"http://www.blog.pythonlibrary.org/2014/04/30/reading-excel-spreadsheets-with-python-and-xlrd/\">Reading Excel Spreadsheets with Python and xlrd</A>\n",
      "<LI> <A HREF=\"http://stackoverflow.com/questions/23568409/xlrd-python-reading-excel-file-into-dict-with-for-loops\">XLRD/Python: Reading Excel file into dict with for-loops</A>\n",
      "</OL>"
     ]
    },
    {
     "cell_type": "heading",
     "level": 2,
     "metadata": {},
     "source": [
      "<font color='red'>Video Presentation</font>"
     ]
    },
    {
     "cell_type": "code",
     "collapsed": false,
     "input": [
      "from IPython.display import YouTubeVideo\n",
      "YouTubeVideo('p0DNcTnreuY')"
     ],
     "language": "python",
     "metadata": {},
     "outputs": []
    },
    {
     "cell_type": "heading",
     "level": 3,
     "metadata": {},
     "source": [
      "Load the xlrd Module"
     ]
    },
    {
     "cell_type": "code",
     "collapsed": false,
     "input": [
      "import xlrd"
     ],
     "language": "python",
     "metadata": {},
     "outputs": []
    },
    {
     "cell_type": "heading",
     "level": 3,
     "metadata": {},
     "source": [
      "Open an Excel File"
     ]
    },
    {
     "cell_type": "code",
     "collapsed": false,
     "input": [
      "# Open the file\n",
      "book = xlrd.open_workbook('PythonBootCampReg.xlsx')"
     ],
     "language": "python",
     "metadata": {},
     "outputs": []
    },
    {
     "cell_type": "heading",
     "level": 3,
     "metadata": {},
     "source": [
      "Get Sheet Information"
     ]
    },
    {
     "cell_type": "code",
     "collapsed": false,
     "input": [
      "# print number of sheets\n",
      "num_sheets = book.nsheets\n",
      "print \"There are %d sheets\" %(num_sheets)"
     ],
     "language": "python",
     "metadata": {},
     "outputs": []
    },
    {
     "cell_type": "code",
     "collapsed": false,
     "input": [
      "# print sheet names\n",
      "names_sheets = book.sheet_names()\n",
      "print \"List of sheets: \", names_sheets"
     ],
     "language": "python",
     "metadata": {},
     "outputs": []
    },
    {
     "cell_type": "heading",
     "level": 4,
     "metadata": {},
     "source": [
      "Print the number of rows and columns of each sheet"
     ]
    },
    {
     "cell_type": "code",
     "collapsed": false,
     "input": [
      "for i in range(num_sheets):\n",
      "    my_sheet = book.sheet_by_index(i)\n",
      "    sheet_name = book.sheet_names()[i]\n",
      "    print \"The sheet %s has %d rows and %d columns\" %(sheet_name, my_sheet.nrows, my_sheet.ncols)\n",
      "    "
     ],
     "language": "python",
     "metadata": {},
     "outputs": []
    },
    {
     "cell_type": "heading",
     "level": 3,
     "metadata": {},
     "source": [
      "Accessing Data from a Sheet"
     ]
    },
    {
     "cell_type": "heading",
     "level": 4,
     "metadata": {},
     "source": [
      "Obtain the first Sheet"
     ]
    },
    {
     "cell_type": "code",
     "collapsed": false,
     "input": [
      "# get the first worksheet\n",
      "first_sheet = book.sheet_by_index(0)"
     ],
     "language": "python",
     "metadata": {},
     "outputs": []
    },
    {
     "cell_type": "heading",
     "level": 4,
     "metadata": {},
     "source": [
      "Print the first row of the sheet"
     ]
    },
    {
     "cell_type": "code",
     "collapsed": false,
     "input": [
      "# read a row\n",
      "print first_sheet.row_values(0)"
     ],
     "language": "python",
     "metadata": {},
     "outputs": []
    },
    {
     "cell_type": "heading",
     "level": 4,
     "metadata": {},
     "source": [
      "Get a cell"
     ]
    },
    {
     "cell_type": "code",
     "collapsed": false,
     "input": [
      "# read a cell\n",
      "cell = first_sheet.cell(0,0)\n",
      "print cell\n",
      "print cell.value"
     ],
     "language": "python",
     "metadata": {},
     "outputs": []
    },
    {
     "cell_type": "heading",
     "level": 4,
     "metadata": {},
     "source": [
      "Get the a slice of cells"
     ]
    },
    {
     "cell_type": "code",
     "collapsed": false,
     "input": [
      "# read a row slice\n",
      "print first_sheet.row_slice(rowx=7, start_colx=1, end_colx=-1)"
     ],
     "language": "python",
     "metadata": {},
     "outputs": []
    },
    {
     "cell_type": "heading",
     "level": 4,
     "metadata": {},
     "source": [
      "Get all the data of a sheet"
     ]
    },
    {
     "cell_type": "code",
     "collapsed": false,
     "input": [
      "data = [[first_sheet.cell_value(r, col) \n",
      "                for col in range(first_sheet.ncols)] \n",
      "                    for r in range(first_sheet.nrows)]\n",
      "print data"
     ],
     "language": "python",
     "metadata": {},
     "outputs": []
    },
    {
     "cell_type": "code",
     "collapsed": false,
     "input": [],
     "language": "python",
     "metadata": {},
     "outputs": []
    }
   ],
   "metadata": {}
  }
 ]
}