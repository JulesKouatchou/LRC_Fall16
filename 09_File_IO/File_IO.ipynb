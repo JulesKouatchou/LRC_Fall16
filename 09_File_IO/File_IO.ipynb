{
 "cells": [
  {
   "cell_type": "markdown",
   "metadata": {
    "collapsed": false,
    "slideshow": {
     "slide_type": "slide"
    }
   },
   "source": [
    "# File input and output (IO)"
   ]
  },
  {
   "cell_type": "code",
   "execution_count": null,
   "metadata": {
    "collapsed": false,
    "slideshow": {
     "slide_type": "-"
    }
   },
   "outputs": [],
   "source": [
    "from IPython.display import Image\n",
    "slide = Image(filename = 'fileFormats.jpg')\n",
    "slide"
   ]
  },
  {
   "cell_type": "markdown",
   "metadata": {
    "slideshow": {
     "slide_type": "-"
    }
   },
   "source": [
    "### Reading text files"
   ]
  },
  {
   "cell_type": "code",
   "execution_count": null,
   "metadata": {
    "collapsed": false,
    "slideshow": {
     "slide_type": "-"
    }
   },
   "outputs": [],
   "source": [
    "help(open)"
   ]
  },
  {
   "cell_type": "code",
   "execution_count": null,
   "metadata": {
    "collapsed": false,
    "slideshow": {
     "slide_type": "-"
    }
   },
   "outputs": [],
   "source": [
    "# A text file can be thought of as a sequence of lines\n",
    "\n",
    "file_object = open('demo.txt', 'r') \n",
    "\n",
    "# What type of object is file_object?\n",
    "print \"file_object is of type\",(type(file_object))\n",
    "\n",
    "# Note: file_object can be treated as a sequence of strings"
   ]
  },
  {
   "cell_type": "code",
   "execution_count": null,
   "metadata": {
    "collapsed": false,
    "scrolled": true,
    "slideshow": {
     "slide_type": "-"
    }
   },
   "outputs": [],
   "source": [
    "dir(file_object) # attributes and methods of file objects"
   ]
  },
  {
   "cell_type": "code",
   "execution_count": null,
   "metadata": {
    "collapsed": false,
    "slideshow": {
     "slide_type": "-"
    }
   },
   "outputs": [],
   "source": [
    "# Examples\n",
    "print file_object.name\n",
    "print file_object.mode\n",
    "print file_object.closed"
   ]
  },
  {
   "cell_type": "code",
   "execution_count": null,
   "metadata": {
    "collapsed": false,
    "scrolled": true
   },
   "outputs": [],
   "source": [
    "my_file = open ('demo.txt','r')\n",
    "count = 0\n",
    "for line in my_file: # treating my_file as a sequence of strings\n",
    "    count = count + 1\n",
    "    print line\n",
    "print \"My file has \"+str(count)+\" lines.\"    \n",
    "my_file.close()"
   ]
  },
  {
   "cell_type": "markdown",
   "metadata": {},
   "source": [
    "#### Note: Each line includes a non-printing character called the newline character \"\\n\""
   ]
  },
  {
   "cell_type": "markdown",
   "metadata": {},
   "source": [
    "### Exercise 0: \n",
    "Read the text file demo.txt and count the number of lines excluding empty lines."
   ]
  },
  {
   "cell_type": "code",
   "execution_count": null,
   "metadata": {
    "collapsed": false
   },
   "outputs": [],
   "source": [
    "my_file = open ('demo.txt','r')\n",
    "count = 0\n",
    "for line in my_file: # treating my_file as a sequence of strings\n",
    "    if not line.startswith('\\n'):\n",
    "        count = count + 1\n",
    "        print line.strip()\n",
    "print \"My file has \"+str(count)+\" lines.\"    \n",
    "my_file.close()"
   ]
  },
  {
   "cell_type": "code",
   "execution_count": null,
   "metadata": {
    "collapsed": false,
    "slideshow": {
     "slide_type": "-"
    }
   },
   "outputs": [],
   "source": [
    "my_file = open ('demo.txt','r')\n",
    "\n",
    "# read() reads the _entire_ file, returns a string object\n",
    "data = my_file.read()           \n",
    "print \"Contents of file are of type\",(type(data))\n",
    "\n",
    "# close file handle\n",
    "my_file.close()\n",
    "\n",
    "# Now data is in memory\n",
    "heading=\"Contents of file\"\n",
    "print \"\\n\"+heading+\"\\n\"+\"-\"*len(heading)\n",
    "print (data)"
   ]
  },
  {
   "cell_type": "code",
   "execution_count": null,
   "metadata": {
    "collapsed": false
   },
   "outputs": [],
   "source": [
    "help(my_file.read)"
   ]
  },
  {
   "cell_type": "code",
   "execution_count": null,
   "metadata": {
    "collapsed": false,
    "slideshow": {
     "slide_type": "-"
    }
   },
   "outputs": [],
   "source": [
    "my_file = open('demo.txt', 'r')\n",
    "data = my_file.read()           # read in 64-byte chunk sizes\n",
    "print (data)\n",
    "while data != \"\":\n",
    "   data = my_file.read(64)\n",
    "   print data\n",
    "my_file.close()"
   ]
  },
  {
   "cell_type": "code",
   "execution_count": null,
   "metadata": {
    "collapsed": false,
    "slideshow": {
     "slide_type": "-"
    }
   },
   "outputs": [],
   "source": [
    "my_file = open ('demo.txt')\n",
    "data = my_file.readline()        # reads one line\n",
    "print (data)\n",
    "my_file.close()"
   ]
  },
  {
   "cell_type": "code",
   "execution_count": null,
   "metadata": {
    "collapsed": false
   },
   "outputs": [],
   "source": [
    "my_file = open ('demo.txt')\n",
    "data = my_file.readlines() # reads all the lines \n",
    "                           # returns a list\n",
    "print (data)\n",
    "my_file.close()\n"
   ]
  },
  {
   "cell_type": "markdown",
   "metadata": {},
   "source": [
    "### Exercise 1: \n",
    "Read the text file demo.txt and find all instances of the word \"Luke\""
   ]
  },
  {
   "cell_type": "code",
   "execution_count": null,
   "metadata": {
    "collapsed": false
   },
   "outputs": [],
   "source": [
    "my_file = open ('demo.txt','r')\n",
    "count = 0\n",
    "for line in my_file: # treating my_file as a sequence of strings\n",
    "    if 'Luke' in line:\n",
    "        count = count + 1\n",
    "print \"Luke appears \"+str(count)+\" times.\"    \n",
    "my_file.close()"
   ]
  },
  {
   "cell_type": "markdown",
   "metadata": {},
   "source": [
    "### Automatically closing files"
   ]
  },
  {
   "cell_type": "code",
   "execution_count": null,
   "metadata": {
    "collapsed": false
   },
   "outputs": [],
   "source": [
    "\n",
    "with open ('demo.txt', 'r') as f:\n",
    "    data = f.read() # file is closed after exiting this block of code\n",
    "\n",
    "print (f.closed)\n",
    "print (f.mode)"
   ]
  },
  {
   "cell_type": "code",
   "execution_count": null,
   "metadata": {
    "collapsed": false
   },
   "outputs": [],
   "source": [
    "with open ('demo.txt', 'r') as f:\n",
    "    data = f.readline()\n",
    "    print (data)                # print adds a newline character '\\n'\n",
    "    data = f.readline()\n",
    "    print (data)"
   ]
  },
  {
   "cell_type": "markdown",
   "metadata": {},
   "source": [
    "### File position"
   ]
  },
  {
   "cell_type": "code",
   "execution_count": null,
   "metadata": {
    "collapsed": false
   },
   "outputs": [],
   "source": [
    "with open ('demo.txt') as f:\n",
    "    f.seek(5)                   # seek(offset) Changes file object's position\n",
    "    data = f.readline() \n",
    "    print (data)"
   ]
  },
  {
   "cell_type": "code",
   "execution_count": null,
   "metadata": {
    "collapsed": false
   },
   "outputs": [],
   "source": [
    "with open ('demo.txt') as f:\n",
    "    f.seek(5)\n",
    "    data = f.readline() \n",
    "    print (data)\n",
    "    k = f.tell()              # returns current position in file\n",
    "    print (k)"
   ]
  },
  {
   "cell_type": "markdown",
   "metadata": {},
   "source": [
    "### File access modes"
   ]
  },
  {
   "cell_type": "markdown",
   "metadata": {},
   "source": [
    "<table style=\"width:100%\">\n",
    "  <tr>\n",
    "    <th>Mode</th>\n",
    "    <th>Description</th> \n",
    "  </tr>\n",
    "  <tr>\n",
    "    <td>r</td>\n",
    "    <td>Opens a file for reading only. Default mode.</td> \n",
    "  </tr>\n",
    "  <tr>\n",
    "    <td>rb</td>\n",
    "    <td>Opens a file for reading only in binary format.</td> \n",
    "  </tr>\n",
    "  <tr>\n",
    "    <td>r+</td>\n",
    "    <td>Opens a file for both reading and writing.</td> \n",
    "  </tr>\n",
    "  <tr>\n",
    "    <td>rb+</td>\n",
    "    <td>Opens a file for both reading and writing in binary format.</td> \n",
    "  </tr>\n",
    "  <tr>\n",
    "    <td>w</td>\n",
    "    <td>Opens a file for writing only. Overwrites file if it exists. Creates a new file if it does not exist.</td> \n",
    "  </tr>\n",
    "  <tr>\n",
    "    <td>wb</td>\n",
    "    <td>Opens a file for writing only in binary format.</td> \n",
    "  </tr>\n",
    "  <tr>\n",
    "    <td>w+</td>\n",
    "    <td>Opens a file for both writing and reading.</td> \n",
    "  </tr>\n",
    "  <tr>\n",
    "    <td>wb+</td>\n",
    "    <td>Opens a file for both writing and reading in binary format.</td> \n",
    "  </tr>\n",
    "    <td>a</td>\n",
    "    <td>Opens a file for appending. The file pointer is at the end of the file if it exists. </td> \n",
    "  </tr>\n",
    "  <tr>\n",
    "    <td>ab</td>\n",
    "    <td>Opens a file for appending in binary format.</td> \n",
    "  </tr>\n",
    "  <tr>\n",
    "    <td>a+</td>\n",
    "    <td>Opens a file for both appending and reading.</td> \n",
    "  </tr>\n",
    "  <tr>\n",
    "    <td>ab+</td>\n",
    "    <td>Opens a file for both appending and reading in binary format.</td> \n",
    "  </tr>\n",
    "</table>"
   ]
  },
  {
   "cell_type": "markdown",
   "metadata": {},
   "source": [
    "### Writing text files"
   ]
  },
  {
   "cell_type": "code",
   "execution_count": null,
   "metadata": {
    "collapsed": false
   },
   "outputs": [],
   "source": [
    "with open ('newfile.txt', 'w') as f:  # 'w' creates a new file\n",
    "    f.write('Hello world!')           # Note: python will not write '\\n' for you\n",
    "print \"Created file :\",f.name"
   ]
  },
  {
   "cell_type": "code",
   "execution_count": null,
   "metadata": {
    "collapsed": true
   },
   "outputs": [],
   "source": [
    "# Example:\n",
    "with open('elements.txt', 'w') as f:\n",
    "    f.write('Noble gases:')              \n",
    "    f.writelines(['He', 'Ne', 'Ar'])  # writelines writes each element on its own...but no '\\n'"
   ]
  },
  {
   "cell_type": "code",
   "execution_count": null,
   "metadata": {
    "collapsed": false,
    "scrolled": false
   },
   "outputs": [],
   "source": [
    "!cat elements.txt"
   ]
  },
  {
   "cell_type": "code",
   "execution_count": null,
   "metadata": {
    "collapsed": false
   },
   "outputs": [],
   "source": [
    "with open('elements.txt', 'a+') as f:  # 'a' append mode, 'a+' appending and reading\n",
    "    contents = f.read()               \n",
    "    print 'Size (in bytes) of contents: ',len(contents)\n",
    "    print (f.tell())                   # file pointer is at EOF\n",
    "    f.write('Kr\\n')"
   ]
  },
  {
   "cell_type": "code",
   "execution_count": null,
   "metadata": {
    "collapsed": false,
    "scrolled": false
   },
   "outputs": [],
   "source": [
    "!cat elements.txt"
   ]
  },
  {
   "cell_type": "code",
   "execution_count": null,
   "metadata": {
    "collapsed": false
   },
   "outputs": [],
   "source": [
    "with open('elements.txt', 'r+') as f: # 'r+' reading and writing\n",
    "    print (f.tell())                  # file pointer is at 'beginning of file'\n",
    "    f.write('Halogens:\\n')          \n",
    "    f.writelines(['F\\n', 'Cl\\n'])"
   ]
  },
  {
   "cell_type": "code",
   "execution_count": null,
   "metadata": {
    "collapsed": false,
    "scrolled": false
   },
   "outputs": [],
   "source": [
    "!cat elements.txt"
   ]
  },
  {
   "cell_type": "markdown",
   "metadata": {},
   "source": [
    "### Using print >>"
   ]
  },
  {
   "cell_type": "code",
   "execution_count": null,
   "metadata": {
    "collapsed": false
   },
   "outputs": [],
   "source": [
    "with open ('elements.txt','w') as f:\n",
    "    print >> f, 'Noble gases'        # print >> automatically adds newline\n",
    "    for gas in ['He', 'Ne', 'Ar', 'Kr']:\n",
    "        print >> f, gas"
   ]
  },
  {
   "cell_type": "markdown",
   "metadata": {
    "collapsed": false
   },
   "source": [
    "## Summary of basic file IO functions and methods"
   ]
  },
  {
   "cell_type": "markdown",
   "metadata": {},
   "source": [
    "<table style=\"width:100%\">\n",
    "  <tr>\n",
    "    <th>Methods and functions</th>\n",
    "    <th>Description</th> \n",
    "  </tr>\n",
    "  <tr>\n",
    "    <td>open()</td>\n",
    "    <td>Returns a file object and is most commonly used with two arguments: open(filename, mode)</td> \n",
    "  </tr>\n",
    "  <tr>\n",
    "    <td>file.close()</td>\n",
    "    <td>Close the file.</td> \n",
    "  </tr>\n",
    "  <tr>\n",
    "    <td>file.read([size])</td>\n",
    "    <td>Read the entire file. If size is specified then read at most size bytes.</td> \n",
    "  </tr>\n",
    "  <tr>\n",
    "    <td>file.readline([size])</td>\n",
    "    <td>Read one line from the file. If size is specified then read at most size bytes.</td> \n",
    "  </tr>\n",
    "  <tr>\n",
    "    <td>file.readlines([size])</td>\n",
    "    <td>Read all the lines from the file. If size is specified then read at most size bytes.</td> \n",
    "  </tr>\n",
    "  <tr>\n",
    "    <td>file.write(string)</td>\n",
    "    <td>Writes the contents of string to the file.</td> \n",
    "  </tr>\n",
    "  <tr>\n",
    "    <td>file.tell()</td>\n",
    "    <td>Returns file object's current position in the file.</td> \n",
    "  </tr>\n",
    "  <tr>\n",
    "    <td>file.seek(int)</td>\n",
    "    <td>Changes the file object's current position to the given int.</td> \n",
    "</table>"
   ]
  },
  {
   "cell_type": "markdown",
   "metadata": {},
   "source": [
    "### Exercise 2:\n",
    "Write a program that reads file 'demo.txt' and writes out a new file with the lines in reversed order (i.e. the first line in the old file becomes the last one in the new file.)"
   ]
  },
  {
   "cell_type": "markdown",
   "metadata": {},
   "source": [
    "### Handling delimited files"
   ]
  },
  {
   "cell_type": "code",
   "execution_count": null,
   "metadata": {
    "collapsed": false
   },
   "outputs": [],
   "source": [
    "import csv\n",
    "help(csv)"
   ]
  },
  {
   "cell_type": "code",
   "execution_count": null,
   "metadata": {
    "collapsed": false
   },
   "outputs": [],
   "source": [
    "import csv\n",
    "fileObj = open('grades.csv', 'r')\n",
    "csvObj = csv.reader(fileObj)            # creates CSV reader object\n",
    "for i, row in enumerate(csvObj):\n",
    "    print row    # Each row of the input data is parsed and converted to a list of strings.\n",
    "fileObj.close()"
   ]
  },
  {
   "cell_type": "code",
   "execution_count": null,
   "metadata": {
    "collapsed": false
   },
   "outputs": [],
   "source": [
    "with open('grades.csv', 'a') as fileObj:\n",
    "    writer = csv.writer(fileObj)\n",
    "    writer.writerow( ('5040','80','90','95','A') )\n",
    "\n",
    "print open('grades.csv', 'r').read()"
   ]
  },
  {
   "cell_type": "code",
   "execution_count": null,
   "metadata": {
    "collapsed": false
   },
   "outputs": [],
   "source": [
    "# Example: searching CSV file\n",
    "\n",
    "with open('grades.csv', 'r') as fileObj:\n",
    "    studentID = raw_input(\"Enter SID: \") \n",
    "    csvObj = csv.reader(fileObj)          \n",
    "    for row in csvObj:\n",
    "        for field in row:\n",
    "            if field == studentID:\n",
    "                print row"
   ]
  },
  {
   "cell_type": "markdown",
   "metadata": {},
   "source": [
    "### Binary data IO"
   ]
  },
  {
   "cell_type": "code",
   "execution_count": null,
   "metadata": {
    "collapsed": false
   },
   "outputs": [],
   "source": [
    "s = b\"Hello world!\"\n",
    "\n",
    "with open('hello.bin','wb') as f:\n",
    "    f.write(s)\n",
    "with open('hello.bin','rb') as f:\n",
    "    byte = f.read(1)\n",
    "    print byte,\n",
    "    while byte != \"\":\n",
    "        byte = f.read(1)\n",
    "        print byte,\n",
    "\n",
    "\n",
    "# The differences between binary and ascii encoding won't be obvious for simple alphanumeric \n",
    "# strings, but will become important if you're processing text that includes characters not \n",
    "# in the ascii character set.\n"
   ]
  },
  {
   "cell_type": "code",
   "execution_count": null,
   "metadata": {
    "collapsed": false,
    "scrolled": true
   },
   "outputs": [],
   "source": [
    "with open('cat.jpg', 'rb') as f:\n",
    "    data = f.readline()\n",
    "print (data)\n",
    "\n",
    "# Print data as hex bytes\n",
    "':'.join(x.encode('hex') for x in data)"
   ]
  },
  {
   "cell_type": "code",
   "execution_count": null,
   "metadata": {
    "collapsed": false
   },
   "outputs": [],
   "source": [
    "with open('cat.jpg', 'rb') as f:\n",
    "    data = f.read()\n",
    " \n",
    "    if data.startswith(b'\\xff\\xd8'):\n",
    "        info = 'This is a jpeg file (%d bytes long)'\n",
    "    else:\n",
    "        info = 'This is a random file (%d bytes long)'\n",
    "\n",
    "    print (info % len(data))"
   ]
  },
  {
   "cell_type": "code",
   "execution_count": null,
   "metadata": {
    "collapsed": false
   },
   "outputs": [],
   "source": [
    "from IPython.display import Image\n",
    "kitty = Image(filename = 'cat.jpg')\n",
    "kitty"
   ]
  },
  {
   "cell_type": "markdown",
   "metadata": {},
   "source": [
    "### OS dependent functions"
   ]
  },
  {
   "cell_type": "code",
   "execution_count": null,
   "metadata": {
    "collapsed": false
   },
   "outputs": [],
   "source": [
    "import os\n",
    "help(os.read)\n",
    "fd = os.open('demo.txt', os.O_RDWR)\n",
    "ret = os.read(fd, 15)\n",
    "print 'Result from os.read:'+'\\n'+20*'-'+'\\n'+ret\n",
    "os.close(fd)"
   ]
  },
  {
   "cell_type": "code",
   "execution_count": null,
   "metadata": {
    "collapsed": false
   },
   "outputs": [],
   "source": [
    "# FILE TESTING\n",
    "# You need to test whether or not a file or directory exists.\n",
    "import os\n",
    "print os.path.exists('/etc/passwd')\n",
    "print os.path.exists('/etc/spam')"
   ]
  },
  {
   "cell_type": "code",
   "execution_count": null,
   "metadata": {
    "collapsed": false
   },
   "outputs": [],
   "source": [
    "filename = '/etc/spam'\n",
    "if os.path.exists(filename):\n",
    "    with open(filename) as f:\n",
    "        data = f.readline()\n",
    "    print data    \n",
    "else:\n",
    "    print (filename + ' does not exist')"
   ]
  },
  {
   "cell_type": "code",
   "execution_count": null,
   "metadata": {
    "collapsed": false
   },
   "outputs": [],
   "source": [
    "print os.path.isfile('/etc/passwd')\n",
    "print os.path.isdir('/etc/passwd')\n",
    "print os.path.islink('python')\n",
    "print os.path.realpath('python')\n",
    "print os.path.getsize('/etc/passwd')"
   ]
  },
  {
   "cell_type": "code",
   "execution_count": null,
   "metadata": {
    "collapsed": false
   },
   "outputs": [],
   "source": [
    "listdir =  os.listdir(\".\")\n",
    "for file in listdir:\n",
    "   print file"
   ]
  },
  {
   "cell_type": "code",
   "execution_count": null,
   "metadata": {
    "collapsed": false
   },
   "outputs": [],
   "source": [
    "# The shutil module offers a number of high-level operations on files and collections of files. \n",
    "# In particular, functions are provided which support file copying and removal. \n",
    "# For operations on individual files, see also the os module.\n",
    "import shutil\n",
    "shutil.copy('cat.jpg','catcopy.jpg')"
   ]
  },
  {
   "cell_type": "code",
   "execution_count": null,
   "metadata": {
    "collapsed": true
   },
   "outputs": [],
   "source": [
    "# Python os module provides methods that help you perform file-processing operations, \n",
    "# such as renaming and deleting files."
   ]
  },
  {
   "cell_type": "code",
   "execution_count": null,
   "metadata": {
    "collapsed": false
   },
   "outputs": [],
   "source": [
    "help (shutil.copy)\n",
    "help (shutil.move)\n",
    "help (os.rename)\n",
    "\n",
    "# Rename a file\n",
    "shutil.copy('demo.txt','demo.txt.save')\n",
    "os.rename( 'demo.txt', 'ep7intro.txt' )"
   ]
  },
  {
   "cell_type": "code",
   "execution_count": null,
   "metadata": {
    "collapsed": false
   },
   "outputs": [],
   "source": [
    "# Delete file\n",
    "os.remove('ep7intro.txt')\n",
    "shutil.copy('demo.txt.save','demo.txt')"
   ]
  },
  {
   "cell_type": "code",
   "execution_count": null,
   "metadata": {
    "collapsed": false
   },
   "outputs": [],
   "source": [
    "# Create a directory \"test\"\n",
    "os.mkdir(\"newdir\")\n",
    "os.chdir(\"newdir\")\n",
    "print os.getcwd()"
   ]
  },
  {
   "cell_type": "code",
   "execution_count": null,
   "metadata": {
    "collapsed": false
   },
   "outputs": [],
   "source": [
    "os.chdir(\"..\")\n",
    "print os.getcwd()"
   ]
  },
  {
   "cell_type": "code",
   "execution_count": null,
   "metadata": {
    "collapsed": true
   },
   "outputs": [],
   "source": [
    "os.rmdir(\"newdir\")"
   ]
  },
  {
   "cell_type": "code",
   "execution_count": null,
   "metadata": {
    "collapsed": false
   },
   "outputs": [],
   "source": [
    "print os.environ['HOME']"
   ]
  },
  {
   "cell_type": "markdown",
   "metadata": {
    "slideshow": {
     "slide_type": "fragment"
    }
   },
   "source": [
    "### Python object serialization\n",
    "\n",
    "The pickle module turns an arbitrary Python object into a series of bytes. This process is also called serialization. \n",
    "  - Useful for storing data\n",
    "  - Inter process communication"
   ]
  },
  {
   "cell_type": "code",
   "execution_count": null,
   "metadata": {
    "collapsed": false
   },
   "outputs": [],
   "source": [
    "# import the pickle module\n",
    "import pickle\n",
    "\n",
    "data1 = [ { 'a':'A', 'b':2, 'c':3.0 } ]\n",
    "print 'DATA:',\n",
    "print(data1)\n",
    "\n",
    "# Use pickle.dumps() to create a string representation of the value of the object.\n",
    "data_string = pickle.dumps(data1)\n",
    "print 'PICKLE:', data_string\n",
    "# By default, the pickle will contain only ASCII characters. "
   ]
  },
  {
   "cell_type": "code",
   "execution_count": null,
   "metadata": {
    "collapsed": false
   },
   "outputs": [],
   "source": [
    "# Once the data is serialized, you can write it to a file, socket, pipe, etc. \n",
    "# Then later you can read the file and unpickle the data to construct a new \n",
    "# object with the same values.\n",
    "data1 = [ { 'a':'A', 'b':2, 'c':3.0 } ]\n",
    "print 'BEFORE:',\n",
    "print(data1)\n",
    "\n",
    "data2 = pickle.loads(data_string)\n",
    "print 'AFTER:',\n",
    "print(data2)\n",
    "\n",
    "print 'EQUAL?:', (data1 == data2)\n",
    "print 'SAME ?:', (data1 is data2)\n"
   ]
  },
  {
   "cell_type": "code",
   "execution_count": null,
   "metadata": {
    "collapsed": false
   },
   "outputs": [],
   "source": [
    "import pickle\n",
    "with open('pickledData.bin', 'wb') as f:\n",
    "    pickle.dump(data1, f)\n",
    "with open('pickledData.bin', 'rb') as f:\n",
    "    data2 = pickle.load(f)\n",
    "print 'Data:',\n",
    "print(data1)\n",
    "print 'EQUAL?:', (data1 == data2)"
   ]
  }
 ],
 "metadata": {
  "anaconda-cloud": {},
  "celltoolbar": "Slideshow",
  "kernelspec": {
   "display_name": "Python [Root]",
   "language": "python",
   "name": "Python [Root]"
  },
  "language_info": {
   "codemirror_mode": {
    "name": "ipython",
    "version": 2
   },
   "file_extension": ".py",
   "mimetype": "text/x-python",
   "name": "python",
   "nbconvert_exporter": "python",
   "pygments_lexer": "ipython2",
   "version": "2.7.12"
  }
 },
 "nbformat": 4,
 "nbformat_minor": 0
}
