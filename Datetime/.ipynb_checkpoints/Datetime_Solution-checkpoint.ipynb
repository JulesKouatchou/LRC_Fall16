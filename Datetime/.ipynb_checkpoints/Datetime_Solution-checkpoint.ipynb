{
 "metadata": {
  "name": "",
  "signature": "sha256:dd29030fffa4dd1afb4cb79155d92298937e5cf5d0ef1254c57712d369cf5842"
 },
 "nbformat": 3,
 "nbformat_minor": 0,
 "worksheets": [
  {
   "cells": [
    {
     "cell_type": "markdown",
     "metadata": {},
     "source": [
      "<CENTER>\n",
      "<H1>\n",
      "<font color='blue'>NASA Langley Research Center </font> <BR>\n",
      "Fall 2016 Python Training <br>\n",
      "</H1>\n",
      "</CENTER>"
     ]
    },
    {
     "cell_type": "heading",
     "level": 1,
     "metadata": {},
     "source": [
      "datetime Module"
     ]
    },
    {
     "cell_type": "code",
     "collapsed": false,
     "input": [
      "import datetime\n",
      "import time"
     ],
     "language": "python",
     "metadata": {},
     "outputs": []
    },
    {
     "cell_type": "heading",
     "level": 3,
     "metadata": {},
     "source": [
      "Problem 1"
     ]
    },
    {
     "cell_type": "markdown",
     "metadata": {},
     "source": [
      "Write a function (add_Years) that adds numYears to a date object."
     ]
    },
    {
     "cell_type": "heading",
     "level": 4,
     "metadata": {},
     "source": [
      "Solution"
     ]
    },
    {
     "cell_type": "code",
     "collapsed": false,
     "input": [
      "def add_Years (myDate, numYears):\n",
      "    return myDate.replace(year =myDate.year + numYears)"
     ],
     "language": "python",
     "metadata": {},
     "outputs": [],
     "prompt_number": 21
    },
    {
     "cell_type": "heading",
     "level": 3,
     "metadata": {},
     "source": [
      "Problem 2"
     ]
    },
    {
     "cell_type": "markdown",
     "metadata": {},
     "source": [
      "Write a function (add_Months) that adds numMonths to a date object."
     ]
    },
    {
     "cell_type": "heading",
     "level": 4,
     "metadata": {},
     "source": [
      "Solution"
     ]
    },
    {
     "cell_type": "code",
     "collapsed": false,
     "input": [
      "import datetime\n",
      "\n",
      "def add_Months(myDate, numMonths):\n",
      "    m = myDate.month + numMonths\n",
      "    year  = m / 12\n",
      "    month = m % 12\n",
      "    if month == 0:\n",
      "       month = 12\n",
      "       year -= 1\n",
      "    try:\n",
      "        newDate = datetime.date(myDate.year+year, month, myDate.day)\n",
      "    except ValueError:\n",
      "        import calendar\n",
      "        # determine the total number of days in a new month\n",
      "        m1, d1 = calendar.monthrange(myDate.year+year, month)\n",
      "        newDate = datetime.date(myDate.year+year, month, d1)\n",
      "    return newDate"
     ],
     "language": "python",
     "metadata": {},
     "outputs": [],
     "prompt_number": 38
    },
    {
     "cell_type": "heading",
     "level": 3,
     "metadata": {},
     "source": [
      "Problem 3"
     ]
    },
    {
     "cell_type": "markdown",
     "metadata": {},
     "source": [
      "Write a function (add_Days) that adds numDays to a date object."
     ]
    },
    {
     "cell_type": "heading",
     "level": 4,
     "metadata": {},
     "source": [
      "Solution"
     ]
    },
    {
     "cell_type": "code",
     "collapsed": false,
     "input": [
      "def add_Days (myDate, numDays):\n",
      "    return myDate + datetime.timedelta(days=numDays)"
     ],
     "language": "python",
     "metadata": {},
     "outputs": [],
     "prompt_number": 25
    },
    {
     "cell_type": "heading",
     "level": 3,
     "metadata": {},
     "source": [
      "Problem 4"
     ]
    },
    {
     "cell_type": "markdown",
     "metadata": {},
     "source": [
      "Write a function (increment_Date):\n",
      "<UL> \n",
      "<LI> That has as arguments refDate (in the format YYYYMMDD), numYears, numMonths and numDays, and \n",
      "<LI> That adds numYears, numMonths and numDays to refDate.\n",
      "<LI> That returns a new date in the format YYYYMMDD.\n",
      "</UL>\n",
      "<P>\n",
      "Note that Years, Months and Days can be negative numbers."
     ]
    },
    {
     "cell_type": "heading",
     "level": 4,
     "metadata": {},
     "source": [
      "Solution"
     ]
    },
    {
     "cell_type": "code",
     "collapsed": false,
     "input": [
      "import datetime\n",
      "\n",
      "def increment_Date(Date, numYears=0, numMonths=0, numDays=0):\n",
      "    # Extract the year, the month and day from Date\n",
      "    y = Date / 10000\n",
      "    m = (Date % 10000) / 100\n",
      "    d = Date % 100\n",
      "    \n",
      "    # Determine the current date object\n",
      "    curDate = datetime.date(y, m, d)\n",
      "    \n",
      "    # Increment the date\n",
      "    curDate = add_Years (curDate, numYears)\n",
      "    curDate = add_Months(curDate, numMonths)\n",
      "    curDate = add_Days  (curDate, numDays)\n",
      "    \n",
      "    # Extract the new year, month and day\n",
      "    curY = curDate.year\n",
      "    curM = curDate.month\n",
      "    curD = curDate.day\n",
      "    \n",
      "    # Compute the new date in the format YYYYMMDD\n",
      "    newDate = 10000*curY + 100*curM + curD\n",
      "    \n",
      "    return newDate\n",
      "\n",
      "print increment_Date(20001231, numMonths=-15, numDays=7)"
     ],
     "language": "python",
     "metadata": {},
     "outputs": []
    },
    {
     "cell_type": "code",
     "collapsed": false,
     "input": [],
     "language": "python",
     "metadata": {},
     "outputs": []
    }
   ],
   "metadata": {}
  }
 ]
}